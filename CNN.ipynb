{
 "cells": [
  {
   "cell_type": "code",
   "execution_count": 14,
   "metadata": {},
   "outputs": [],
   "source": [
    "#!pip install tensorflow --ignore-installed --user\n",
    "#!pip install -U keras"
   ]
  },
  {
   "cell_type": "markdown",
   "metadata": {},
   "source": [
    "CNN(Convolutional Neural Network)"
   ]
  },
  {
   "cell_type": "code",
   "execution_count": 29,
   "metadata": {},
   "outputs": [
    {
     "name": "stdout",
     "output_type": "stream",
     "text": [
      "Downloading data from https://storage.googleapis.com/tensorflow/tf-keras-datasets/mnist.npz\n",
      "11493376/11490434 [==============================] - 2s 0us/step\n"
     ]
    }
   ],
   "source": [
    "import keras\n",
    "#Data set training and test\n",
    "from keras.datasets import mnist\n",
    "(x_train, y_train), (x_test, y_test) = mnist.load_data()"
   ]
  },
  {
   "cell_type": "code",
   "execution_count": 30,
   "metadata": {},
   "outputs": [],
   "source": [
    "#validation set\n",
    "from sklearn.model_selection import train_test_split\n",
    "x_train1, x_valid, y_train1, y_valid = train_test_split(x_train, y_train, test_size=0.175)"
   ]
  },
  {
   "cell_type": "code",
   "execution_count": 31,
   "metadata": {},
   "outputs": [],
   "source": [
    "# model set\n",
    "#generalization performance\n",
    "from keras.models import Sequential\n",
    "from keras.layers import Dense, Dropout, Flatten\n",
    "from keras.layers import Conv2D, MaxPooling2D\n",
    "\n",
    "model = Sequential()\n",
    "model.add(Conv2D(32, kernel_size=(3, 3), activation='relu', input_shape=(28, 28, 1)))\n",
    "model.add(Conv2D(64, (3, 3), activation='relu'))\n",
    "model.add(MaxPooling2D(pool_size=(2, 2)))\n",
    "model.add(Dropout(0.25))\n",
    "model.add(Flatten())\n",
    "model.add(Dense(128, activation='relu'))\n",
    "model.add(Dropout(0.5))\n",
    "model.add(Dense(10, activation='softmax'))"
   ]
  },
  {
   "cell_type": "code",
   "execution_count": 32,
   "metadata": {},
   "outputs": [
    {
     "name": "stdout",
     "output_type": "stream",
     "text": [
      "Model: \"sequential\"\n",
      "_________________________________________________________________\n",
      "Layer (type)                 Output Shape              Param #   \n",
      "=================================================================\n",
      "conv2d (Conv2D)              (None, 26, 26, 32)        320       \n",
      "_________________________________________________________________\n",
      "conv2d_1 (Conv2D)            (None, 24, 24, 64)        18496     \n",
      "_________________________________________________________________\n",
      "max_pooling2d (MaxPooling2D) (None, 12, 12, 64)        0         \n",
      "_________________________________________________________________\n",
      "dropout (Dropout)            (None, 12, 12, 64)        0         \n",
      "_________________________________________________________________\n",
      "flatten (Flatten)            (None, 9216)              0         \n",
      "_________________________________________________________________\n",
      "dense (Dense)                (None, 128)               1179776   \n",
      "_________________________________________________________________\n",
      "dropout_1 (Dropout)          (None, 128)               0         \n",
      "_________________________________________________________________\n",
      "dense_1 (Dense)              (None, 10)                1290      \n",
      "=================================================================\n",
      "Total params: 1,199,882\n",
      "Trainable params: 1,199,882\n",
      "Non-trainable params: 0\n",
      "_________________________________________________________________\n"
     ]
    }
   ],
   "source": [
    "model.summary()"
   ]
  },
  {
   "cell_type": "code",
   "execution_count": 35,
   "metadata": {},
   "outputs": [],
   "source": [
    "#resize\n",
    "# 28 x 28 image scale 1ch:grayscale→28,28,1\n",
    "x_train = x_train.reshape(x_train.shape[0], 28, 28, 1)\n",
    "x_valid = x_valid.reshape(x_valid.shape[0], 28, 28, 1)\n",
    "x_test = x_test.reshape(x_test.shape[0], 28, 28, 1)\n",
    "\n",
    "x_train = x_train.astype('float32')\n",
    "x_valid = x_valid.astype('float32')\n",
    "x_test = x_test.astype('float32')\n",
    "x_train /= 255\n",
    "x_valid /= 255\n",
    "x_test /= 255\n",
    "\n",
    "#one-hot vector\n",
    "y_train = keras.utils.to_categorical(y_train, 10)\n",
    "y_valid = keras.utils.to_categorical(y_valid, 10)\n",
    "y_test = keras.utils.to_categorical(y_test, 10)"
   ]
  },
  {
   "cell_type": "code",
   "execution_count": 36,
   "metadata": {},
   "outputs": [
    {
     "name": "stdout",
     "output_type": "stream",
     "text": [
      "Epoch 1/10\n",
      "469/469 [==============================] - 40s 86ms/step - loss: 1.2520 - accuracy: 0.5809 - val_loss: 0.3581 - val_accuracy: 0.8947\n",
      "Epoch 2/10\n",
      "469/469 [==============================] - 43s 93ms/step - loss: 0.4553 - accuracy: 0.8619 - val_loss: 0.2670 - val_accuracy: 0.9171\n",
      "Epoch 3/10\n",
      "469/469 [==============================] - 47s 100ms/step - loss: 0.3718 - accuracy: 0.8878 - val_loss: 0.2057 - val_accuracy: 0.9394\n",
      "Epoch 4/10\n",
      "469/469 [==============================] - 49s 104ms/step - loss: 0.3282 - accuracy: 0.9007 - val_loss: 0.1790 - val_accuracy: 0.9474\n",
      "Epoch 5/10\n",
      "469/469 [==============================] - 47s 100ms/step - loss: 0.3043 - accuracy: 0.9083 - val_loss: 0.1594 - val_accuracy: 0.9562\n",
      "Epoch 6/10\n",
      "469/469 [==============================] - 46s 97ms/step - loss: 0.2854 - accuracy: 0.9144 - val_loss: 0.1494 - val_accuracy: 0.9570\n",
      "Epoch 7/10\n",
      "469/469 [==============================] - 46s 99ms/step - loss: 0.2685 - accuracy: 0.9208 - val_loss: 0.1402 - val_accuracy: 0.9593\n",
      "Epoch 8/10\n",
      "469/469 [==============================] - 46s 97ms/step - loss: 0.2588 - accuracy: 0.9241 - val_loss: 0.1293 - val_accuracy: 0.9618\n",
      "Epoch 9/10\n",
      "469/469 [==============================] - 46s 98ms/step - loss: 0.2416 - accuracy: 0.9287 - val_loss: 0.1224 - val_accuracy: 0.9649\n",
      "Epoch 10/10\n",
      "469/469 [==============================] - 47s 100ms/step - loss: 0.2339 - accuracy: 0.9308 - val_loss: 0.1142 - val_accuracy: 0.9690\n"
     ]
    }
   ],
   "source": [
    "from keras.optimizers import RMSprop\n",
    "\n",
    "model.compile(loss='categorical_crossentropy',\n",
    "              optimizer=RMSprop(),\n",
    "              metrics=['accuracy'])\n",
    "\n",
    "history = model.fit(x_train, y_train,\n",
    "                    batch_size=128,\n",
    "                    epochs=10,\n",
    "                    verbose=1,\n",
    "                    validation_data=(x_valid, y_valid))"
   ]
  },
  {
   "cell_type": "code",
   "execution_count": 37,
   "metadata": {},
   "outputs": [
    {
     "name": "stdout",
     "output_type": "stream",
     "text": [
      "Test loss: 0.12334264814853668\n",
      "Test accuracy: 0.9642000198364258\n"
     ]
    }
   ],
   "source": [
    "score = model.evaluate(x_test, y_test, verbose=0)\n",
    "print('Test loss:', score[0])\n",
    "print('Test accuracy:', score[1])"
   ]
  },
  {
   "cell_type": "code",
   "execution_count": 45,
   "metadata": {},
   "outputs": [
    {
     "data": {
      "text/plain": [
       "dict_keys(['loss', 'accuracy', 'val_loss', 'val_accuracy'])"
      ]
     },
     "execution_count": 45,
     "metadata": {},
     "output_type": "execute_result"
    }
   ],
   "source": [
    "#history data label\n",
    "history.history.keys() "
   ]
  },
  {
   "cell_type": "code",
   "execution_count": 46,
   "metadata": {},
   "outputs": [
    {
     "data": {
      "image/png": "[encoded data removed]",
      "text/plain": [
       "<Figure size 432x288 with 1 Axes>"
      ]
     },
     "metadata": {
      "needs_background": "light"
     },
     "output_type": "display_data"
    },
    {
     "data": {
      "image/png": "[encoded data removed]",
      "text/plain": [
       "<Figure size 432x288 with 1 Axes>"
      ]
     },
     "metadata": {
      "needs_background": "light"
     },
     "output_type": "display_data"
    }
   ],
   "source": [
    "from matplotlib import pyplot as plt\n",
    "\n",
    "# accuracy plot\n",
    "plt.plot(history.history['accuracy'], marker='.', label='acc')\n",
    "plt.plot(history.history['val_accuracy'], marker='.', label='val_acc')\n",
    "plt.title('model accuracy')\n",
    "plt.grid()\n",
    "plt.xlabel('epoch')\n",
    "plt.ylabel('accuracy')\n",
    "plt.legend(loc='best')\n",
    "plt.show()\n",
    "\n",
    "# Loss plot\n",
    "plt.plot(history.history['loss'], marker='.', label='loss')\n",
    "plt.plot(history.history['val_loss'], marker='.', label='val_loss')\n",
    "plt.title('model loss')\n",
    "plt.grid()\n",
    "plt.xlabel('epoch')\n",
    "plt.ylabel('loss')\n",
    "plt.legend(loc='best')\n",
    "plt.show()"
   ]
  }
 ],
 "metadata": {
  "kernelspec": {
   "display_name": "Python 3",
   "language": "python",
   "name": "python3"
  },
  "language_info": {
   "codemirror_mode": {
    "name": "ipython",
    "version": 3
   },
   "file_extension": ".py",
   "mimetype": "text/x-python",
   "name": "python",
   "nbconvert_exporter": "python",
   "pygments_lexer": "ipython3",
   "version": "3.7.6"
  }
 },
 "nbformat": 4,
 "nbformat_minor": 4
}
